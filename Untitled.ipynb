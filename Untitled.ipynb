{
 "cells": [
  {
   "cell_type": "markdown",
   "metadata": {},
   "source": [
    "# API \n",
    "\n",
    "The goal of this notebook is to understand the general working of API's."
   ]
  },
  {
   "cell_type": "markdown",
   "metadata": {},
   "source": [
    "## 2 ways to use API's:\n",
    "\n",
    "1.) Server Based Authentication (Traditional Method)\n",
    "\n",
    "2.) Token Based Authentication"
   ]
  },
  {
   "cell_type": "markdown",
   "metadata": {},
   "source": [
    "## SERVER BASED AUTHENTICATION\n",
    "\n",
    "Server based authentication is a more dated version of accessing API's.  The framework is simple. Gain access to data by creating a user login/password that is stored in both the user's computer and the server.  Every time the user connects to the server to gain access to data, a new session is started.  For every session, the info about the user is recorded.   This info is seen as a record on the server and will likely tell information about the query requests.\n",
    "\n",
    "#### 4 Associated Problems:\n",
    "\n",
    "1.) **Servers:** For each session, the record is stored in memory.  When there is an influx of users obtaining querys from the same API at the same time, it increases the cost on the server.\n",
    "\n",
    "2.) **Scalability:** While cloud providers attempt to replicate servers so as to handle an application overload, or too many people accessing the API, it will make sense to not include information that wouldn't be relevant to the user.  Unfortunately, with Server Based Authentication it requires this information to be sent with each query.\n",
    "\n",
    "3.) **CORS:** As more devices can handle the retrieving information from API's, an issue called Cross-Origin Resource Sharing (CORS) comes into play.  This can occur when trying to access API from a mobile application.\n",
    "\n",
    "4.) **CSRF:** A Cross-Site Request Forgery (CSRF for short or one-click attack) can be performed as a malicious exploit of a website will allow an unwanted client access to the intended user's account.  This can be bad when the API link is for a banking website.\n",
    "\n",
    "### Picture-based Framework of SBA:\n",
    "\n",
    "![](images/tokens-traditional.png)"
   ]
  },
  {
   "cell_type": "markdown",
   "metadata": {},
   "source": [
    "## TOKEN BASED AUTHENTICATION\n",
    "\n",
    "In token based authentication, each session is somewhat stateless.  This means that there is no record stored about the user on the server or in the session.  This allows each application to scale much more easily.  Since it is not worried about where the user is logged in, it will allow for more machines to be added as necessary.\n",
    "\n",
    "The general framework of Token Based Authentication is this:\n",
    "\n",
    "1 --> User requests to gain access with username/password\n",
    "\n",
    "2--> Application will grant access (or deny **:-(**   )\n",
    "\n",
    "3--> Application will send the client/user a token to be used when querying the API\n",
    "\n",
    "4--> Imperative that the client saves this token somewhere, so as to use it with each query/request\n",
    "\n",
    "5--> The server will then (upon each request) verify the token and grant access\n",
    "\n",
    "\n",
    "**Important Note:** With each request from the client, the token must be inserted so that the application can accept the client's request.  This token should be attached with HTTP request along with an asterisk symbol with the ACAO portion.  ACAO stands for Access-Control-Allow-Origin.  When we do this, it tells the request to not allow certain authentication methods like HTTP authentication, client SSL certificates, or even cookies. This can be seen in the HTTP line as: \"Access-Control-Allow-Origin:*\""
   ]
  },
  {
   "cell_type": "markdown",
   "metadata": {},
   "source": [
    "## Picture-based framework for TBA\n",
    "\n",
    "![](images/tokens-new.png)"
   ]
  },
  {
   "cell_type": "markdown",
   "metadata": {
    "collapsed": true
   },
   "source": [
    "### Benefits to Token Based Authentication\n",
    "\n",
    "1) The token is stored on the client's side. This allows for greater scalability on the server's side.  If we kept using the Server Based Authentification we would run into a problem known as session affinity. \n",
    "\n",
    "2) There is a possibility to allow third-party application access to your token.  This can be used to grant access to others. Note: only the information that you provided will be used.. The third-party can not access new information using your token and you MUST grant access to this third-party.\n",
    "\n",
    "3) By sending a token, you are generating a request with no cookie attached. This prevents the CSRF problem we discussed earlier.  There is a possibility of the server-side storing a cookie but this is only for storage rather than authentication.  Therefore, no session information is available to manipulate.\n",
    "\n",
    "4) After a period of time, the token will expire.  This pertains to the step above, in terms of security.  If there ever were to be a problem with CSRF, the token will expire requiring the client to either log in again or perform a token revocation.  Token revocation can be thought of as a means to reinstate the access of a prior used token to a client after it has been logged out due to time.\n"
   ]
  },
  {
   "cell_type": "code",
   "execution_count": null,
   "metadata": {
    "collapsed": true
   },
   "outputs": [],
   "source": []
  }
 ],
 "metadata": {
  "kernelspec": {
   "display_name": "Python 3",
   "language": "python",
   "name": "python3"
  },
  "language_info": {
   "codemirror_mode": {
    "name": "ipython",
    "version": 3
   },
   "file_extension": ".py",
   "mimetype": "text/x-python",
   "name": "python",
   "nbconvert_exporter": "python",
   "pygments_lexer": "ipython3",
   "version": "3.6.1"
  }
 },
 "nbformat": 4,
 "nbformat_minor": 2
}
